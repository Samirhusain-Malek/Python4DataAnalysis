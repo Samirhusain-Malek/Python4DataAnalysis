{
 "cells": [
  {
   "cell_type": "code",
   "execution_count": 2,
   "metadata": {
    "collapsed": false
   },
   "outputs": [
    {
     "ename": "SyntaxError",
     "evalue": "invalid syntax (<ipython-input-2-efa9b258e493>, line 12)",
     "output_type": "error",
     "traceback": [
      "\u001b[0;36m  File \u001b[0;32m\"<ipython-input-2-efa9b258e493>\"\u001b[0;36m, line \u001b[0;32m12\u001b[0m\n\u001b[0;31m    f = open('/data/train.csv' %s count,'w')\u001b[0m\n\u001b[0m                                      ^\u001b[0m\n\u001b[0;31mSyntaxError\u001b[0m\u001b[0;31m:\u001b[0m invalid syntax\n"
     ]
    }
   ],
   "source": [
    "with open('/data/train.csv', 'r') as csvfile:\n",
    "    read_rows = csv.reader(csvfile)\n",
    "    file_count = 1\n",
    "    row_count = 1\n",
    "    f = open('/data/train_%s.csv'+ file_count,'w')\n",
    "    for row in read_rows:\n",
    "        f.write(''.join(row))\n",
    "        row_count+=1\n",
    "        if row_count % 100000000 == 0:\n",
    "            f.close()\n",
    "            file_count += 1\n",
    "            f = open('/data/train.csv' %s count,'w') "
   ]
  },
  {
   "cell_type": "code",
   "execution_count": null,
   "metadata": {
    "collapsed": true
   },
   "outputs": [],
   "source": []
  }
 ],
 "metadata": {
  "kernelspec": {
   "display_name": "Python [default]",
   "language": "python",
   "name": "python3"
  },
  "language_info": {
   "codemirror_mode": {
    "name": "ipython",
    "version": 3
   },
   "file_extension": ".py",
   "mimetype": "text/x-python",
   "name": "python",
   "nbconvert_exporter": "python",
   "pygments_lexer": "ipython3",
   "version": "3.5.2"
  }
 },
 "nbformat": 4,
 "nbformat_minor": 1
}
