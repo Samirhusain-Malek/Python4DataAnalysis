{
 "cells": [
  {
   "cell_type": "code",
   "execution_count": 1,
   "metadata": {
    "collapsed": false
   },
   "outputs": [],
   "source": [
    "import requests\n",
    "import csv\n",
    "import sys\n",
    "import os\n",
    "import json\n",
    "sys.path.append(os.path.abspath('../Analysis1'))\n",
    "from Analysis1_question_userid import user_ids\n",
    "\n",
    "user_profile = {}\n",
    "abs_path = os.path.abspath(\"../Analysis1/data\")\n",
    "listJsonFiles = os.listdir(abs_path)\n",
    "for file in listJsonFiles:\n",
    "    with open(abs_path + '/' + file) as jsonfile:\n",
    "        jsonData = json.load(jsonfile)\n",
    "        for item in jsonData[\"items\"]:\n",
    "            user_id = item[\"owner\"][\"user_id\"]\n",
    "            if not user_id in user_profile:\n",
    "                user_profile[user_id] = dict((k, item[\"owner\"][k]) for k in (\"user_id\", \"display_name\",\"link\",\"reputation\"))\n",
    "\n"
   ]
  },
  {
   "cell_type": "code",
   "execution_count": 2,
   "metadata": {
    "collapsed": false
   },
   "outputs": [],
   "source": [
    "# make requests of each user_id in user/{ids}/tags, and get tags \n",
    "user_ids_distinct = list(set(user_ids)) #425\n",
    "for i in user_ids_distinct:\n",
    "    userid_str = str(i)\n",
    "    key = 'yGwOPEWpcZjxInyceeD7Jg(('\n",
    "    url = 'https://api.stackexchange.com/2.2/users/{}/tags?key={}\\\n",
    "    &order=desc&sort=popular&site=stackoverflow'.format(userid_str,key)\n",
    "    r = requests.get(url)\n",
    "    items = r.json()[\"items\"]\n",
    "    tags = list()\n",
    "    for item in items:\n",
    "        tag = item[\"name\"]\n",
    "        tags.append(tag)\n",
    "    user_profile[i]['tags'] = tags   "
   ]
  },
  {
   "cell_type": "code",
   "execution_count": 3,
   "metadata": {
    "collapsed": false
   },
   "outputs": [],
   "source": [
    "user_profile_sorted = sorted(user_profile.items(), key = lambda item: item[1][\"reputation\"], reverse=True)\n",
    "#print(user_profile_sorted)"
   ]
  },
  {
   "cell_type": "code",
   "execution_count": 4,
   "metadata": {
    "collapsed": false
   },
   "outputs": [],
   "source": [
    "profile_list = [(v[1][\"user_id\"],v[1][\"display_name\"],v[1][\"reputation\"],\n",
    "                 v[1][\"tags\"],v[1][\"link\"]) for v in user_profile_sorted]"
   ]
  },
  {
   "cell_type": "code",
   "execution_count": 7,
   "metadata": {
    "collapsed": false
   },
   "outputs": [],
   "source": [
    "#print(profile_list)"
   ]
  },
  {
   "cell_type": "code",
   "execution_count": 6,
   "metadata": {
    "collapsed": true
   },
   "outputs": [],
   "source": [
    "with open('user_reputation_sorted.csv', 'w') as csvfile:\n",
    "    writer = csv.writer(csvfile)\n",
    "    writer.writerow([\"user_id\", \"display_name\", \"reputation\", \"tags\", \"link\"])\n",
    "    writer.writerows(profile_list)"
   ]
  },
  {
   "cell_type": "code",
   "execution_count": null,
   "metadata": {
    "collapsed": true
   },
   "outputs": [],
   "source": []
  }
 ],
 "metadata": {
  "anaconda-cloud": {},
  "kernelspec": {
   "display_name": "Python 3",
   "language": "python",
   "name": "python3"
  },
  "language_info": {
   "codemirror_mode": {
    "name": "ipython",
    "version": 3
   },
   "file_extension": ".py",
   "mimetype": "text/x-python",
   "name": "python",
   "nbconvert_exporter": "python",
   "pygments_lexer": "ipython3",
   "version": "3.5.2"
  }
 },
 "nbformat": 4,
 "nbformat_minor": 0
}
